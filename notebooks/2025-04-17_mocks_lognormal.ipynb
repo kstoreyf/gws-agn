{
 "cells": [
  {
   "cell_type": "code",
   "execution_count": null,
   "id": "084b4713",
   "metadata": {},
   "outputs": [],
   "source": [
    "import numpy as np\n",
    "import pandas as pd\n",
    "from astropy.table import Table\n",
    "\n",
    "from nbodykit.lab import *\n",
    "from nbodykit import style, setup_logging\n",
    "\n",
    "from matplotlib import pyplot as plt"
   ]
  },
  {
   "cell_type": "code",
   "execution_count": null,
   "id": "c2d600cd",
   "metadata": {},
   "outputs": [],
   "source": [
    "redshift = 0.55\n",
    "cosmo = cosmology.Planck15\n",
    "Plin = cosmology.LinearPower(cosmo, redshift, transfer='EisensteinHu')\n",
    "b1 = 1.5\n",
    "\n",
    "boxsize = 1000\n",
    "cat = LogNormalCatalog(Plin=Plin, nbar=1e-7, BoxSize=boxsize, Nmesh=256, bias=b1, seed=42)"
   ]
  }
 ],
 "metadata": {
  "kernelspec": {
   "display_name": "Python 3 (ipykernel)",
   "language": "python",
   "name": "python3"
  },
  "language_info": {
   "codemirror_mode": {
    "name": "ipython",
    "version": 3
   },
   "file_extension": ".py",
   "mimetype": "text/x-python",
   "name": "python",
   "nbconvert_exporter": "python",
   "pygments_lexer": "ipython3",
   "version": "3.7.12"
  }
 },
 "nbformat": 4,
 "nbformat_minor": 5
}
