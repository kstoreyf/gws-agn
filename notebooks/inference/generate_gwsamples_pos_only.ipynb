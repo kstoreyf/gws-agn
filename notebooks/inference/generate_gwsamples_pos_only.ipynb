{
 "cells": [
  {
   "cell_type": "code",
   "execution_count": 1,
   "metadata": {
    "id": "UM247VOWZvfB"
   },
   "outputs": [],
   "source": [
    "import os\n",
    "os.environ['XLA_PYTHON_CLIENT_PREALLOCATE']='false'\n",
    "\n",
    "import jax\n",
    "\n",
    "from jax import random, jit, vmap, grad\n",
    "from jax import numpy as jnp\n",
    "from jax.lax import cond\n",
    "\n",
    "import astropy\n",
    "import numpy as np\n",
    "import healpy as hp\n",
    "\n",
    "import h5py\n",
    "import astropy.units as u\n",
    "\n",
    "from astropy.cosmology import Planck15, FlatLambdaCDM, z_at_value\n",
    "import astropy.constants as constants\n",
    "from jax.scipy.special import logsumexp\n",
    "from scipy.interpolate import interp1d\n",
    "from scipy.stats import gaussian_kde\n",
    "from tqdm import tqdm\n",
    "\n",
    "import matplotlib\n",
    "%matplotlib inline\n",
    "\n",
    "import matplotlib.pyplot as plt\n",
    "matplotlib.rcParams['font.family'] = 'Times New Roman'\n",
    "matplotlib.rcParams['font.sans-serif'] = ['Bitstream Vera Sans']\n",
    "matplotlib.rcParams['text.usetex'] = False\n",
    "matplotlib.rcParams['mathtext.fontset'] = 'cm'\n",
    "matplotlib.rcParams['figure.figsize'] = (16.0, 10.0)\n",
    "matplotlib.rcParams['axes.unicode_minus'] = False\n",
    "\n",
    "import seaborn as sns\n",
    "sns.set_context('talk')\n",
    "sns.set_style('ticks')\n",
    "sns.set_palette('colorblind')\n",
    "c=sns.color_palette('colorblind')\n",
    "\n",
    "jax.config.update(\"jax_enable_x64\", True)\n",
    "jax.config.update('jax_default_matmul_precision', 'highest')\n"
   ]
  },
  {
   "cell_type": "code",
   "execution_count": 2,
   "metadata": {
    "colab": {
     "base_uri": "https://localhost:8080/"
    },
    "executionInfo": {
     "elapsed": 1260,
     "status": "ok",
     "timestamp": 1699297936324,
     "user": {
      "displayName": "Ignacio Magana",
      "userId": "03792128717253148259"
     },
     "user_tz": 300
    },
    "id": "8C6u_PBF6iLP",
    "outputId": "1fd5419a-f743-485e-c575-409115e4a5a1"
   },
   "outputs": [],
   "source": [
    "import h5py\n",
    "\n",
    "path ='../../data/mocks_glass/mock_seed42_ratioNgalNagn100_bgal1.0_bagn1.0/mock_catalog.hdf5'\n",
    "\n",
    "with h5py.File(path, 'r') as f:\n",
    "    ra_gal = np.asarray(f['ra_gal'])*np.pi/180\n",
    "    dec_gal = np.asarray(f['dec_gal'])*np.pi/180\n",
    "    z_gal = np.asarray(f['z_gal'])\n",
    "    ra_agn = np.asarray(f['ra_agn'])*np.pi/180\n",
    "    dec_agn = np.asarray(f['dec_agn'])*np.pi/180\n",
    "    z_agn = np.asarray(f['z_agn'])\n",
    "\n",
    "path ='../../data/mocks_glass/mock_seed42_ratioNgalNagn100_bgal1.0_bagn1.0/gws_fagn0.25_lambdaagn0.5_N1000_seed1042.hdf5'\n",
    "with h5py.File(path, 'r') as f:    \n",
    "    i_gw_gal = np.asarray(f['i_gw_gal'])    \n",
    "    i_gw_agn = np.asarray(f['i_gw_agn'])   \n",
    "\n",
    "#print(fs.shape)"
   ]
  },
  {
   "cell_type": "code",
   "execution_count": 3,
   "metadata": {
    "colab": {
     "base_uri": "https://localhost:8080/"
    },
    "executionInfo": {
     "elapsed": 792,
     "status": "ok",
     "timestamp": 1699297938934,
     "user": {
      "displayName": "Ignacio Magana",
      "userId": "03792128717253148259"
     },
     "user_tz": 300
    },
    "id": "IMdISmw-JaN1",
    "outputId": "232cd506-a94d-423b-9e38-c3fdc850d2c6"
   },
   "outputs": [
    {
     "name": "stderr",
     "output_type": "stream",
     "text": [
      "2025-10-08 15:45:56.602946: W external/xla/xla/service/gpu/nvptx_compiler.cc:930] The NVIDIA driver's CUDA version is 12.3 which is older than the PTX compiler version 12.6.77. Because the driver is older than the PTX compiler version, XLA is disabling parallel compilation, which may slow down compilation. You should update your NVIDIA driver or use the NVIDIA-provided CUDA forward compatibility packages.\n",
      "100%|██████████| 100/100 [00:01<00:00, 87.22it/s]\n"
     ]
    }
   ],
   "source": [
    "from jaxinterp2d import interp2d, CartesianGrid\n",
    "\n",
    "zMax_1 = 0.5\n",
    "zMax_2 = 5\n",
    "\n",
    "H0Planck = Planck15.H0.value\n",
    "Om0Planck = Planck15.Om0\n",
    "\n",
    "cosmo = FlatLambdaCDM(H0=H0Planck,Om0=Planck15.Om0)\n",
    "speed_of_light = constants.c.to('km/s').value\n",
    "\n",
    "zgrid_1 = np.expm1(np.linspace(np.log(1), np.log(zMax_1+1), 5000))\n",
    "zgrid_2 = np.expm1(np.linspace(np.log(zMax_1+1), np.log(zMax_2+1), 5000))\n",
    "zgrid = np.concatenate([zgrid_1,zgrid_2])\n",
    "\n",
    "rs = []\n",
    "Om0grid = jnp.linspace(Om0Planck-0.1,Om0Planck+0.1,100)\n",
    "for Om0 in tqdm(Om0grid):\n",
    "    cosmo = FlatLambdaCDM(H0=H0Planck,Om0=Om0)\n",
    "    rs.append(cosmo.comoving_distance(zgrid).to(u.Mpc).value)\n",
    "\n",
    "zgrid = jnp.array(zgrid)\n",
    "rs = jnp.asarray(rs)\n",
    "rs = rs.reshape(len(Om0grid),len(zgrid))\n",
    "\n",
    "@jit\n",
    "def E(z,Om0=Om0Planck):\n",
    "    return jnp.sqrt(Om0*(1+z)**3 + (1.0-Om0))\n",
    "\n",
    "@jit\n",
    "def r_of_z(z,H0,Om0=Om0Planck):\n",
    "    return interp2d(Om0,z,Om0grid,zgrid,rs)*(H0Planck/H0)\n",
    "\n",
    "@jit\n",
    "def dL_of_z(z,H0,Om0=Om0Planck):\n",
    "    return (1+z)*r_of_z(z,H0,Om0)\n",
    "\n",
    "@jit\n",
    "def z_of_dL(dL,H0,Om0=Om0Planck):\n",
    "    return jnp.interp(dL,dL_of_z(zgrid,H0,Om0),zgrid)\n",
    "\n",
    "@jit\n",
    "def dV_of_z(z,H0,Om0=Om0Planck):\n",
    "    return speed_of_light*r_of_z(z,H0,Om0)**2/(H0*E(z,Om0))\n",
    "\n",
    "@jit\n",
    "def ddL_of_z(z,dL,H0,Om0=Om0Planck):\n",
    "    return dL/(1+z) + speed_of_light*(1+z)/(H0*E(z,Om0))"
   ]
  },
  {
   "cell_type": "code",
   "execution_count": 5,
   "metadata": {},
   "outputs": [],
   "source": [
    "ra_gal_gw = ra_gal[i_gw_gal]\n",
    "dec_gal_gw = dec_gal[i_gw_gal]\n",
    "dL_gal_gw = dL_of_z(z_gal[i_gw_gal],H0Planck)\n",
    "\n",
    "ra_agn_gw = ra_agn[i_gw_agn]\n",
    "dec_agn_gw = dec_agn[i_gw_agn]\n",
    "dL_agn_gw = dL_of_z(z_agn[i_gw_agn],H0Planck)\n"
   ]
  },
  {
   "cell_type": "code",
   "execution_count": 7,
   "metadata": {},
   "outputs": [],
   "source": [
    "from scipy.stats import multivariate_normal\n",
    "\n",
    "dLs = []\n",
    "ras = []\n",
    "decs = []\n",
    "\n",
    "for k in range(int(len(i_gw_gal))):\n",
    "    dL = dL_gal_gw[k]\n",
    "    ra = ra_gal_gw[k]\n",
    "    dec = dec_gal_gw[k]\n",
    "    mean = np.array([dL, ra, dec])\n",
    "    \n",
    "    cov = np.diag([(dL),0.01**2,0.01**2])\n",
    "    rv = multivariate_normal(mean, cov)\n",
    "    samples = rv.rvs([256000])\n",
    "    \n",
    "    dec_samples = samples[:,2]\n",
    "    mask = np.where((dec_samples>-np.pi/2)&(dec_samples<np.pi/2))\n",
    "    samples = samples[mask]\n",
    "    \n",
    "    choose = np.random.randint(0,len(samples),4096)\n",
    "    samples = samples[choose]\n",
    "\n",
    "    dLs.append(samples[:,0])\n",
    "    ras.append(samples[:,1] % (2 * np.pi))\n",
    "    decs.append(samples[:,2])\n",
    "\n",
    "for k in range(int(len(i_gw_agn))):\n",
    "    dL = dL_agn_gw[k]\n",
    "    ra = ra_agn_gw[k]\n",
    "    dec = dec_agn_gw[k]\n",
    "    mean = np.array([dL, ra, dec])\n",
    "    \n",
    "    cov = np.diag([(dL),0.01**2,0.01**2])\n",
    "    rv = multivariate_normal(mean, cov)\n",
    "    samples = rv.rvs([256000])\n",
    "    \n",
    "    dec_samples = samples[:,2]\n",
    "    mask = np.where((dec_samples>-np.pi/2)&(dec_samples<np.pi/2))\n",
    "    samples = samples[mask]\n",
    "    \n",
    "    choose = np.random.randint(0,len(samples),4096)\n",
    "    samples = samples[choose]\n",
    "    dLs.append(samples[:,0])\n",
    "    ras.append(samples[:,1] % (2 * np.pi))\n",
    "    decs.append(samples[:,2])"
   ]
  },
  {
   "cell_type": "code",
   "execution_count": 8,
   "metadata": {},
   "outputs": [
    {
     "data": {
      "image/png": "[encoded data removed]",
      "text/plain": [
       "<Figure size 1600x1000 with 1 Axes>"
      ]
     },
     "metadata": {},
     "output_type": "display_data"
    }
   ],
   "source": [
    "plt.scatter(samples[:,1],samples[:,2])\n",
    "plt.xlim(0,2*np.pi)\n",
    "plt.ylim(-np.pi/2,np.pi/2)\n",
    "plt.show()"
   ]
  },
  {
   "cell_type": "code",
   "execution_count": 13,
   "metadata": {},
   "outputs": [],
   "source": [
    "ras = np.concatenate(ras)\n",
    "decs = np.concatenate(decs)\n",
    "dLs = np.concatenate(dLs)\n"
   ]
  },
  {
   "cell_type": "code",
   "execution_count": 10,
   "metadata": {},
   "outputs": [],
   "source": [
    "import h5py\n",
    "with h5py.File('lognormal_pixelated_gws_pos_only.h5', 'w') as f:\n",
    "    f.attrs['nsamp'] = 4096\n",
    "    f.attrs['nobs'] = 1000\n",
    "    f.create_dataset('dL', data=dLs, compression='gzip', shuffle=False)\n",
    "    f.create_dataset('ra', data=ras, compression='gzip', shuffle=False)\n",
    "    f.create_dataset('dec', data=decs, compression='gzip', shuffle=False)\n"
   ]
  },
  {
   "cell_type": "code",
   "execution_count": null,
   "metadata": {},
   "outputs": [],
   "source": []
  }
 ],
 "metadata": {
  "colab": {
   "machine_shape": "hm",
   "provenance": []
  },
  "kernelspec": {
   "display_name": "jax",
   "language": "python",
   "name": "jax"
  },
  "language_info": {
   "codemirror_mode": {
    "name": "ipython",
    "version": 3
   },
   "file_extension": ".py",
   "mimetype": "text/x-python",
   "name": "python",
   "nbconvert_exporter": "python",
   "pygments_lexer": "ipython3",
   "version": "3.11.10"
  }
 },
 "nbformat": 4,
 "nbformat_minor": 4
}
