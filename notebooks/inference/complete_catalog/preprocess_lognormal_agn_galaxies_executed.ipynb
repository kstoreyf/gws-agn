{
 "cells": [
  {
   "cell_type": "code",
   "execution_count": 1,
   "id": "7c39ee46",
   "metadata": {
    "execution": {
     "iopub.execute_input": "2025-08-08T06:46:57.730352Z",
     "iopub.status.busy": "2025-08-08T06:46:57.730095Z",
     "iopub.status.idle": "2025-08-08T06:47:03.326445Z",
     "shell.execute_reply": "2025-08-08T06:47:03.325761Z"
    },
    "executionInfo": {
     "elapsed": 2563,
     "status": "ok",
     "timestamp": 1687879503292,
     "user": {
      "displayName": "Ignacio Magana",
      "userId": "03792128717253148259"
     },
     "user_tz": 240
    },
    "id": "UM247VOWZvfB",
    "papermill": {
     "duration": 5.602094,
     "end_time": "2025-08-08T06:47:03.328000",
     "exception": false,
     "start_time": "2025-08-08T06:46:57.725906",
     "status": "completed"
    },
    "tags": []
   },
   "outputs": [],
   "source": [
    "import jax\n",
    "\n",
    "from jax import random, jit, vmap, grad\n",
    "from jax import numpy as jnp\n",
    "from jax.lax import cond\n",
    "\n",
    "import astropy\n",
    "import numpy as np\n",
    "\n",
    "import h5py\n",
    "import astropy.units as u\n",
    "\n",
    "from astropy.cosmology import Planck15, FlatLambdaCDM, z_at_value\n",
    "import astropy.constants as constants\n",
    "from jax.scipy.special import logsumexp\n",
    "from scipy.interpolate import interp1d\n",
    "from scipy.stats import gaussian_kde\n",
    "from tqdm import tqdm\n",
    "\n",
    "import matplotlib\n",
    "%matplotlib inline\n",
    "\n",
    "import matplotlib.pyplot as plt\n",
    "matplotlib.rcParams['font.family'] = 'Times New Roman'\n",
    "matplotlib.rcParams['font.sans-serif'] = ['Bitstream Vera Sans']\n",
    "matplotlib.rcParams['text.usetex'] = False\n",
    "matplotlib.rcParams['mathtext.fontset'] = 'cm'\n",
    "matplotlib.rcParams['figure.figsize'] = (16.0, 10.0)\n",
    "matplotlib.rcParams['axes.unicode_minus'] = False\n",
    "\n",
    "import seaborn as sns\n",
    "sns.set_context('talk')\n",
    "sns.set_style('ticks')\n",
    "sns.set_palette('colorblind')\n",
    "c=sns.color_palette('colorblind')\n",
    "\n",
    "jax.config.update(\"jax_enable_x64\", True)\n",
    "jax.config.update('jax_default_matmul_precision', 'highest')"
   ]
  },
  {
   "cell_type": "code",
   "execution_count": 2,
   "id": "0c97c0af",
   "metadata": {
    "colab": {
     "base_uri": "https://localhost:8080/"
    },
    "execution": {
     "iopub.execute_input": "2025-08-08T06:47:03.334382Z",
     "iopub.status.busy": "2025-08-08T06:47:03.334087Z"
    },
    "executionInfo": {
     "elapsed": 826,
     "status": "ok",
     "timestamp": 1687879594654,
     "user": {
      "displayName": "Ignacio Magana",
      "userId": "03792128717253148259"
     },
     "user_tz": 240
    },
    "id": "IMdISmw-JaN1",
    "outputId": "a92897ab-d7db-457e-f389-da735f376765",
    "papermill": {
     "duration": 3.005725,
     "end_time": "2025-08-08T06:47:06.337563",
     "exception": false,
     "start_time": "2025-08-08T06:47:03.331838",
     "status": "completed"
    },
    "tags": []
   },
   "outputs": [],
   "source": [
    "from jaxinterp2d import interp2d, CartesianGrid\n",
    "\n",
    "zMax_1 = 0.5\n",
    "zMax_2 = 5\n",
    "\n",
    "H0Planck = Planck15.H0.value\n",
    "Om0Planck = Planck15.Om0\n",
    "\n",
    "cosmo = FlatLambdaCDM(H0=H0Planck,Om0=Planck15.Om0)\n",
    "speed_of_light = constants.c.to('km/s').value\n",
    "\n",
    "zgrid_1 = np.expm1(np.linspace(np.log(1), np.log(zMax_1+1), 500))\n",
    "zgrid_2 = np.expm1(np.linspace(np.log(zMax_1+1), np.log(zMax_2+1), 200))\n",
    "zgrid = np.concatenate([zgrid_1,zgrid_2])\n",
    "\n",
    "rs = []\n",
    "Om0grid = jnp.linspace(Om0Planck-0.1,Om0Planck+0.1,50)\n",
    "for Om0 in tqdm(Om0grid):\n",
    "    cosmo = FlatLambdaCDM(H0=H0Planck,Om0=Om0)\n",
    "    rs.append(cosmo.comoving_distance(zgrid).to(u.Mpc).value)\n",
    "\n",
    "zgrid = jnp.array(zgrid)\n",
    "rs = jnp.asarray(rs)\n",
    "rs = rs.reshape(len(Om0grid),len(zgrid))\n",
    "\n",
    "@jit\n",
    "def E(z,Om0=Om0Planck):\n",
    "    return jnp.sqrt(Om0*(1+z)**3 + (1.0-Om0))\n",
    "\n",
    "@jit\n",
    "def r_of_z(z,H0,Om0=Om0Planck):\n",
    "    return interp2d(Om0,z,Om0grid,zgrid,rs)*(H0Planck/H0)\n",
    "\n",
    "@jit\n",
    "def dL_of_z(z,H0,Om0=Om0Planck):\n",
    "    return (1+z)*r_of_z(z,H0,Om0)\n",
    "\n",
    "@jit\n",
    "def z_of_dL(dL,H0,Om0=Om0Planck):\n",
    "    return jnp.interp(dL,dL_of_z(zgrid,H0,Om0),zgrid)\n",
    "\n",
    "@jit\n",
    "def dV_of_z(z,H0,Om0=Om0Planck):\n",
    "    return speed_of_light*r_of_z(z,H0,Om0)**2/(H0*E(z,Om0))\n",
    "\n",
    "@jit\n",
    "def ddL_of_z(z,dL,H0,Om0=Om0Planck):\n",
    "    return dL/(1+z) + speed_of_light*(1+z)/(H0*E(z,Om0))"
   ]
  },
  {
   "cell_type": "code",
   "execution_count": null,
   "id": "b01b3a58",
   "metadata": {
    "colab": {
     "base_uri": "https://localhost:8080/"
    },
    "executionInfo": {
     "elapsed": 979,
     "status": "ok",
     "timestamp": 1687879595632,
     "user": {
      "displayName": "Ignacio Magana",
      "userId": "03792128717253148259"
     },
     "user_tz": 240
    },
    "id": "XTAsATPBFl_i",
    "outputId": "a1dae3ac-a10c-410c-85aa-56c090419418",
    "papermill": {
     "duration": null,
     "end_time": null,
     "exception": null,
     "start_time": null,
     "status": "completed"
    },
    "tags": []
   },
   "outputs": [],
   "source": [
    "file = '../../../data/mocks_glass/mock_seed42_ratioNgalNagn100_fagn0.25.hdf5'\n",
    "\n",
    "with h5py.File(file, 'r') as f:\n",
    "    ras_ = np.asarray(f['ra_gal'])*np.pi/180\n",
    "    decs_ = np.asarray(f['dec_gal'])*np.pi/180\n",
    "    zs_ = np.asarray(f['z_gal'])\n",
    "    \n",
    "ngals = len(ras_)"
   ]
  },
  {
   "cell_type": "code",
   "execution_count": null,
   "id": "ad31b15d",
   "metadata": {
    "colab": {
     "base_uri": "https://localhost:8080/",
     "height": 590
    },
    "executionInfo": {
     "elapsed": 2145,
     "status": "ok",
     "timestamp": 1687879597776,
     "user": {
      "displayName": "Ignacio Magana",
      "userId": "03792128717253148259"
     },
     "user_tz": 240
    },
    "id": "gePX90_u6xr5",
    "outputId": "456c7e5c-cec4-4a79-ba90-a64e29744c04",
    "papermill": {
     "duration": null,
     "end_time": null,
     "exception": null,
     "start_time": null,
     "status": "completed"
    },
    "tags": []
   },
   "outputs": [],
   "source": [
    "from pathos.multiprocessing import ProcessingPool, Pool\n",
    "import tqdm_pathos\n",
    "\n",
    "import healpy as hp\n",
    "\n",
    "nside = 64\n",
    "npix = hp.pixelfunc.nside2npix(nside)\n",
    "apix = hp.pixelfunc.nside2pixarea(nside)\n",
    "pixgrid = np.arange(npix)\n",
    "print(pixgrid.shape)\n",
    "\n",
    "ind = hp.pixelfunc.ang2pix(nside,np.pi/2-decs_,ras_)\n",
    "\n",
    "def calculate_galaxies_pix(pix):\n",
    "    cats = []\n",
    "    ngalaxies = []\n",
    "    id = np.where(ind == pix)[0]\n",
    "    cats.append(id)\n",
    "    ngalaxies.append(len(id))\n",
    "\n",
    "    return cats, ngalaxies\n",
    "\n",
    "p = ProcessingPool(20)\n",
    "results = tqdm_pathos.map(calculate_galaxies_pix, list(pixgrid))\n",
    "\n",
    "cats = []\n",
    "ngalaxies = []\n",
    "\n",
    "maxgals = 350\n",
    "for pix in tqdm(pixgrid):\n",
    "    gals = zs_[results[pix][0][0]]\n",
    "    ngals = gals.shape[0]\n",
    "    zgals = [gals]\n",
    "\n",
    "    if ngals < maxgals:\n",
    "        lenght = int(maxgals - ngals)\n",
    "        zgals.append(100*np.ones(lenght))\n",
    "    \n",
    "    cats.append(np.concatenate(zgals))\n",
    "    ngalaxies.append(ngals)\n",
    "    \n",
    "del results\n",
    "p.close()"
   ]
  },
  {
   "cell_type": "code",
   "execution_count": null,
   "id": "c466a69b",
   "metadata": {
    "papermill": {
     "duration": null,
     "end_time": null,
     "exception": null,
     "start_time": null,
     "status": "completed"
    },
    "tags": []
   },
   "outputs": [],
   "source": [
    "m = np.asarray(ngalaxies)\n",
    "hp.mollview(m, title=\"Mollview image RING\")\n",
    "hp.graticule()\n",
    "plt.show()"
   ]
  },
  {
   "cell_type": "code",
   "execution_count": null,
   "id": "d5646a79",
   "metadata": {
    "papermill": {
     "duration": null,
     "end_time": null,
     "exception": null,
     "start_time": null,
     "status": "completed"
    },
    "tags": []
   },
   "outputs": [],
   "source": [
    "m.max()"
   ]
  },
  {
   "cell_type": "code",
   "execution_count": null,
   "id": "4798c028",
   "metadata": {
    "papermill": {
     "duration": null,
     "end_time": null,
     "exception": null,
     "start_time": null,
     "status": "completed"
    },
    "tags": []
   },
   "outputs": [],
   "source": [
    "import h5py\n",
    "with h5py.File('lognormal_pixelated_nside_'+str(nside)+'_galaxies.h5', 'w') as f:\n",
    "    f.attrs['nside'] = nside\n",
    "    f.create_dataset('zgals', data=np.asarray(cats), compression='gzip', shuffle=False)\n",
    "    f.create_dataset('ngals', data=m, compression='gzip', shuffle=False)"
   ]
  },
  {
   "cell_type": "code",
   "execution_count": null,
   "id": "d86c1c66",
   "metadata": {
    "papermill": {
     "duration": null,
     "end_time": null,
     "exception": null,
     "start_time": null,
     "status": "completed"
    },
    "tags": []
   },
   "outputs": [],
   "source": [
    "file = '../../../data/mocks_glass/mock_seed42_ratioNgalNagn100_fagn0.25.hdf5'\n",
    "\n",
    "with h5py.File(file, 'r') as f:\n",
    "    ras_ = np.asarray(f['ra_agn'])*np.pi/180\n",
    "    decs_ = np.asarray(f['dec_agn'])*np.pi/180\n",
    "    zs_ = np.asarray(f['z_agn'])\n",
    "    \n",
    "ngals = len(ras_)"
   ]
  },
  {
   "cell_type": "code",
   "execution_count": null,
   "id": "047e4bcd",
   "metadata": {
    "papermill": {
     "duration": null,
     "end_time": null,
     "exception": null,
     "start_time": null,
     "status": "completed"
    },
    "tags": []
   },
   "outputs": [],
   "source": [
    "from pathos.multiprocessing import ProcessingPool, Pool\n",
    "import tqdm_pathos\n",
    "\n",
    "import healpy as hp\n",
    "\n",
    "nside = 64\n",
    "npix = hp.pixelfunc.nside2npix(nside)\n",
    "apix = hp.pixelfunc.nside2pixarea(nside)\n",
    "pixgrid = np.arange(npix)\n",
    "print(pixgrid.shape)\n",
    "\n",
    "ind = hp.pixelfunc.ang2pix(nside,np.pi/2-decs_,ras_)\n",
    "\n",
    "def calculate_galaxies_pix(pix):\n",
    "    cats = []\n",
    "    ngalaxies = []\n",
    "    id = np.where(ind == pix)[0]\n",
    "    cats.append(id)\n",
    "    ngalaxies.append(len(id))\n",
    "\n",
    "    return cats, ngalaxies\n",
    "\n",
    "p = ProcessingPool(20)\n",
    "results = tqdm_pathos.map(calculate_galaxies_pix, list(pixgrid))\n",
    "\n",
    "cats = []\n",
    "ngalaxies = []\n",
    "\n",
    "maxgals = 15\n",
    "for pix in tqdm(pixgrid):\n",
    "    gals = zs_[results[pix][0][0]]\n",
    "    ngals = gals.shape[0]\n",
    "    zgals = [gals]\n",
    "\n",
    "    if ngals < maxgals:\n",
    "        lenght = int(maxgals - ngals)\n",
    "        zgals.append(100*np.ones(lenght))\n",
    "    \n",
    "    cats.append(np.concatenate(zgals))\n",
    "    ngalaxies.append(ngals)\n",
    "    \n",
    "del results\n",
    "p.close()"
   ]
  },
  {
   "cell_type": "code",
   "execution_count": null,
   "id": "ff31cf85",
   "metadata": {
    "papermill": {
     "duration": null,
     "end_time": null,
     "exception": null,
     "start_time": null,
     "status": "completed"
    },
    "tags": []
   },
   "outputs": [],
   "source": [
    "m = np.asarray(ngalaxies)\n",
    "hp.mollview(m, title=\"Mollview image RING\")\n",
    "hp.graticule()\n",
    "plt.show()"
   ]
  },
  {
   "cell_type": "code",
   "execution_count": null,
   "id": "82026c43",
   "metadata": {
    "papermill": {
     "duration": null,
     "end_time": null,
     "exception": null,
     "start_time": null,
     "status": "completed"
    },
    "tags": []
   },
   "outputs": [],
   "source": [
    "m.max()"
   ]
  },
  {
   "cell_type": "code",
   "execution_count": null,
   "id": "a70ee3dd",
   "metadata": {
    "papermill": {
     "duration": null,
     "end_time": null,
     "exception": null,
     "start_time": null,
     "status": "completed"
    },
    "tags": []
   },
   "outputs": [],
   "source": [
    "import h5py\n",
    "with h5py.File('lognormal_pixelated_nside_'+str(nside)+'_agns.h5', 'w') as f:\n",
    "    f.attrs['nside'] = nside\n",
    "    f.create_dataset('zgals', data=np.asarray(cats), compression='gzip', shuffle=False)\n",
    "    f.create_dataset('ngals', data=m, compression='gzip', shuffle=False)"
   ]
  },
  {
   "cell_type": "code",
   "execution_count": null,
   "id": "429691fd",
   "metadata": {
    "papermill": {
     "duration": null,
     "end_time": null,
     "exception": null,
     "start_time": null,
     "status": "completed"
    },
    "tags": []
   },
   "outputs": [],
   "source": []
  }
 ],
 "metadata": {
  "accelerator": "GPU",
  "colab": {
   "gpuType": "T4",
   "machine_shape": "hm",
   "provenance": []
  },
  "kernelspec": {
   "display_name": "jax",
   "language": "python",
   "name": "jax"
  },
  "language_info": {
   "codemirror_mode": {
    "name": "ipython",
    "version": 3
   },
   "file_extension": ".py",
   "mimetype": "text/x-python",
   "name": "python",
   "nbconvert_exporter": "python",
   "pygments_lexer": "ipython3",
   "version": "3.11.10"
  },
  "papermill": {
   "default_parameters": {},
   "duration": 9.956991,
   "end_time": "2025-08-08T06:47:06.341858",
   "environment_variables": {},
   "exception": null,
   "input_path": "notebooks/inference/complete_catalog/preprocess_lognormal_agn_galaxies.ipynb",
   "output_path": "notebooks/inference/complete_catalog/preprocess_lognormal_agn_galaxies_executed.ipynb",
   "parameters": {},
   "start_time": "2025-08-08T06:46:56.384867",
   "version": "2.6.0"
  }
 },
 "nbformat": 4,
 "nbformat_minor": 5
}